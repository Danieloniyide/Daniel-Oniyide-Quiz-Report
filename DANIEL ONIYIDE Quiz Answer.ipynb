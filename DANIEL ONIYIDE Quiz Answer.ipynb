{
 "cells": [
  {
   "cell_type": "markdown",
   "metadata": {},
   "source": [
    "# DANIEL ONIYIDE Quiz Report"
   ]
  },
  {
   "cell_type": "code",
   "execution_count": 28,
   "metadata": {},
   "outputs": [],
   "source": [
    "import pandas as pd\n",
    "import numpy as np"
   ]
  },
  {
   "cell_type": "code",
   "execution_count": 2,
   "metadata": {},
   "outputs": [
    {
     "name": "stdout",
     "output_type": "stream",
     "text": [
      "[1, 2, 3, 4, 5, 6]\n",
      "[13, 21, 34]\n"
     ]
    }
   ],
   "source": [
    "#Question 1: If you're given two lists: A = [1,2,3,4,5,6], B = [13,21,34]. The tasks is to create a list with the elements of A and B in a single dimension with output: A_B = [1,2,3,4,5,6,13,21,34]. Which of the following option is the best way too create this list?\n",
    "\n",
    "A = [1,2,3,4,5,6]\n",
    "B = [13,21,34]\n",
    "print(A)\n",
    "print(B)\n"
   ]
  },
  {
   "cell_type": "markdown",
   "metadata": {},
   "source": [
    "Answer: Out of all the options, A.append(B) only updated the A with the parenthesis while A.extend(B) only extended A.\n",
    "A_B can only be achieve when A and B are added i.e A_B = A + B"
   ]
  },
  {
   "cell_type": "code",
   "execution_count": 3,
   "metadata": {},
   "outputs": [
    {
     "name": "stdout",
     "output_type": "stream",
     "text": [
      "[1, 2, 3, 4, 5, 6, 13, 21, 34]\n"
     ]
    }
   ],
   "source": [
    "A_B = A + B\n",
    "print(A_B)"
   ]
  },
  {
   "cell_type": "code",
   "execution_count": 4,
   "metadata": {},
   "outputs": [
    {
     "name": "stdout",
     "output_type": "stream",
     "text": [
      "[[1. 0. 0.]\n",
      " [0. 1. 0.]\n",
      " [0. 0. 1.]]\n"
     ]
    }
   ],
   "source": [
    "#Question 2: How do you create an identity matrix in python?\n",
    "\n",
    "C  = np.identity(3)\n",
    "print(C)"
   ]
  },
  {
   "cell_type": "markdown",
   "metadata": {},
   "source": [
    "Answer: Identity matrix can be created using either np.identity(3) or np.eye(3)\n",
    "From other options, they dont represent well the dimension"
   ]
  },
  {
   "cell_type": "code",
   "execution_count": 9,
   "metadata": {},
   "outputs": [],
   "source": [
    "Fuel_Data = pd.read_csv(r'C:\\Users\\Dnear\\Desktop\\HAMOYE\\GROUP A - Introduction to Python for Machine Learning\\Lesson 2\\fuel_ferc1.csv')"
   ]
  },
  {
   "cell_type": "code",
   "execution_count": 16,
   "metadata": {},
   "outputs": [
    {
     "data": {
      "text/html": [
       "<div>\n",
       "<style scoped>\n",
       "    .dataframe tbody tr th:only-of-type {\n",
       "        vertical-align: middle;\n",
       "    }\n",
       "\n",
       "    .dataframe tbody tr th {\n",
       "        vertical-align: top;\n",
       "    }\n",
       "\n",
       "    .dataframe thead th {\n",
       "        text-align: right;\n",
       "    }\n",
       "</style>\n",
       "<table border=\"1\" class=\"dataframe\">\n",
       "  <thead>\n",
       "    <tr style=\"text-align: right;\">\n",
       "      <th></th>\n",
       "      <th>Utility ID</th>\n",
       "      <th>Report Year</th>\n",
       "      <th>Plant Name</th>\n",
       "      <th>Fuel Type</th>\n",
       "      <th>Fuel Unit</th>\n",
       "      <th>Fuel Quantity Burned</th>\n",
       "      <th>Energy Per Unit</th>\n",
       "      <th>Fuel Cost Per Unit Burned</th>\n",
       "      <th>Fuel Delivery Per Unit</th>\n",
       "      <th>Fuel Cost Per MMBTU</th>\n",
       "    </tr>\n",
       "  </thead>\n",
       "  <tbody>\n",
       "    <tr>\n",
       "      <th>0</th>\n",
       "      <td>1</td>\n",
       "      <td>1970-01-01 00:00:00.000001994</td>\n",
       "      <td>rockport</td>\n",
       "      <td>coal</td>\n",
       "      <td>ton</td>\n",
       "      <td>5377489.0</td>\n",
       "      <td>16.590</td>\n",
       "      <td>18.59</td>\n",
       "      <td>18.53</td>\n",
       "      <td>1.121</td>\n",
       "    </tr>\n",
       "    <tr>\n",
       "      <th>1</th>\n",
       "      <td>1</td>\n",
       "      <td>1970-01-01 00:00:00.000001994</td>\n",
       "      <td>rockport total plant</td>\n",
       "      <td>coal</td>\n",
       "      <td>ton</td>\n",
       "      <td>10486945.0</td>\n",
       "      <td>16.592</td>\n",
       "      <td>18.58</td>\n",
       "      <td>18.53</td>\n",
       "      <td>1.120</td>\n",
       "    </tr>\n",
       "    <tr>\n",
       "      <th>2</th>\n",
       "      <td>2</td>\n",
       "      <td>1970-01-01 00:00:00.000001994</td>\n",
       "      <td>gorgas</td>\n",
       "      <td>coal</td>\n",
       "      <td>ton</td>\n",
       "      <td>2978683.0</td>\n",
       "      <td>24.130</td>\n",
       "      <td>39.72</td>\n",
       "      <td>38.12</td>\n",
       "      <td>1.650</td>\n",
       "    </tr>\n",
       "    <tr>\n",
       "      <th>3</th>\n",
       "      <td>2</td>\n",
       "      <td>1970-01-01 00:00:00.000001994</td>\n",
       "      <td>barry</td>\n",
       "      <td>coal</td>\n",
       "      <td>ton</td>\n",
       "      <td>3739484.0</td>\n",
       "      <td>23.950</td>\n",
       "      <td>47.21</td>\n",
       "      <td>45.99</td>\n",
       "      <td>1.970</td>\n",
       "    </tr>\n",
       "    <tr>\n",
       "      <th>4</th>\n",
       "      <td>2</td>\n",
       "      <td>1970-01-01 00:00:00.000001994</td>\n",
       "      <td>chickasaw</td>\n",
       "      <td>gas</td>\n",
       "      <td>mcf</td>\n",
       "      <td>40533.0</td>\n",
       "      <td>1.000</td>\n",
       "      <td>2.77</td>\n",
       "      <td>2.77</td>\n",
       "      <td>2.570</td>\n",
       "    </tr>\n",
       "  </tbody>\n",
       "</table>\n",
       "</div>"
      ],
      "text/plain": [
       "   Utility ID                   Report Year            Plant Name Fuel Type  \\\n",
       "0           1 1970-01-01 00:00:00.000001994              rockport      coal   \n",
       "1           1 1970-01-01 00:00:00.000001994  rockport total plant      coal   \n",
       "2           2 1970-01-01 00:00:00.000001994                gorgas      coal   \n",
       "3           2 1970-01-01 00:00:00.000001994                 barry      coal   \n",
       "4           2 1970-01-01 00:00:00.000001994             chickasaw       gas   \n",
       "\n",
       "  Fuel Unit  Fuel Quantity Burned  Energy Per Unit  Fuel Cost Per Unit Burned  \\\n",
       "0       ton             5377489.0           16.590                      18.59   \n",
       "1       ton            10486945.0           16.592                      18.58   \n",
       "2       ton             2978683.0           24.130                      39.72   \n",
       "3       ton             3739484.0           23.950                      47.21   \n",
       "4       mcf               40533.0            1.000                       2.77   \n",
       "\n",
       "   Fuel Delivery Per Unit  Fuel Cost Per MMBTU  \n",
       "0                   18.53                1.121  \n",
       "1                   18.53                1.120  \n",
       "2                   38.12                1.650  \n",
       "3                   45.99                1.970  \n",
       "4                    2.77                2.570  "
      ]
     },
     "execution_count": 16,
     "metadata": {},
     "output_type": "execute_result"
    }
   ],
   "source": [
    "Fuel_Data.rename(columns={'record_id': 'Record ID', 'utility_id_ferc1':'Utility ID','report_year':'Report Year','plant_name_ferc1':'Plant Name','fuel_type_code_pudl':'Fuel Type','fuel_unit':'Fuel Unit','fuel_qty_burned':'Fuel Quantity Burned','fuel_mmbtu_per_unit':'Energy Per Unit','fuel_cost_per_unit_burned':'Fuel Cost Per Unit Burned','fuel_cost_per_unit_delivered':'Fuel Delivery Per Unit','fuel_cost_per_mmbtu':'Fuel Cost Per MMBTU'},inplace=True)\n",
    "Fuel_Data['Report Year']=pd.to_datetime(Fuel_Data['Report Year'])\n",
    "Fuel_Data.head()"
   ]
  },
  {
   "cell_type": "code",
   "execution_count": 17,
   "metadata": {},
   "outputs": [
    {
     "data": {
      "text/plain": [
       "Fuel Type\n",
       "coal         67.421830\n",
       "gas          13.659397\n",
       "nuclear    4955.157002\n",
       "oil         168.877086\n",
       "other        18.253856\n",
       "waste        19.518122\n",
       "Name: Fuel Cost Per Unit Burned, dtype: float64"
      ]
     },
     "execution_count": 17,
     "metadata": {},
     "output_type": "execute_result"
    }
   ],
   "source": [
    "#Question 3: Which of the following fuel type code has the lowest average fuel cost per unit burned?\n",
    "\n",
    "Fuel_Data.groupby('Fuel Type')['Fuel Cost Per Unit Burned'].mean()"
   ]
  },
  {
   "cell_type": "markdown",
   "metadata": {},
   "source": [
    "Answer: Gas has the least fuel cost per unit burned of 13.659397."
   ]
  },
  {
   "cell_type": "code",
   "execution_count": 18,
   "metadata": {},
   "outputs": [
    {
     "data": {
      "text/plain": [
       "count    29523.000000\n",
       "mean         8.492111\n",
       "std         10.600220\n",
       "min          0.000001\n",
       "25%          1.024000\n",
       "50%          5.762694\n",
       "75%         17.006000\n",
       "max        341.260000\n",
       "Name: Energy Per Unit, dtype: float64"
      ]
     },
     "execution_count": 18,
     "metadata": {},
     "output_type": "execute_result"
    }
   ],
   "source": [
    "#Question 4: What is the standard deviation and 75th percentile of the measure of energy per unit in two decimal places?\n",
    "\n",
    "Fuel_Data['Energy Per Unit'].describe()"
   ]
  },
  {
   "cell_type": "markdown",
   "metadata": {},
   "source": [
    "Answer: Standard Deviation: 10.60 and 75% percentile:17.01"
   ]
  },
  {
   "cell_type": "code",
   "execution_count": 19,
   "metadata": {},
   "outputs": [
    {
     "name": "stdout",
     "output_type": "stream",
     "text": [
      "15.851495469109503\n",
      "651.3694501337732\n"
     ]
    }
   ],
   "source": [
    "#Question 5: Wjat is the skewness and kurtosis for the fuel quantity burned in two decimal places?\n",
    "\n",
    "print(Fuel_Data['Fuel Quantity Burned'].skew())\n",
    "print(Fuel_Data['Fuel Quantity Burned'].kurt())"
   ]
  },
  {
   "cell_type": "markdown",
   "metadata": {},
   "source": [
    "Answer: Skewness: 15.85, Kurtosis: 651.37"
   ]
  },
  {
   "cell_type": "code",
   "execution_count": 20,
   "metadata": {},
   "outputs": [
    {
     "data": {
      "text/plain": [
       "Utility ID                     0\n",
       "Report Year                    0\n",
       "Plant Name                     0\n",
       "Fuel Type                      0\n",
       "Fuel Unit                    180\n",
       "Fuel Quantity Burned           0\n",
       "Energy Per Unit                0\n",
       "Fuel Cost Per Unit Burned      0\n",
       "Fuel Delivery Per Unit         0\n",
       "Fuel Cost Per MMBTU            0\n",
       "dtype: int64"
      ]
     },
     "execution_count": 20,
     "metadata": {},
     "output_type": "execute_result"
    }
   ],
   "source": [
    "#Question 6: What feature has missing values and wha is the total number of missing value and percentage of the missing rows as a factor of the total number of rows in three decimal places?\n",
    "\n",
    "Fuel_Data.isna().sum()"
   ]
  },
  {
   "cell_type": "markdown",
   "metadata": {},
   "source": [
    "Answer: Feature: Fuel Unit, \n",
    "        Total: 180, \n",
    "        Percent: 0.610"
   ]
  },
  {
   "cell_type": "code",
   "execution_count": 21,
   "metadata": {},
   "outputs": [
    {
     "data": {
      "text/plain": [
       "Utility ID                     0\n",
       "Report Year                    0\n",
       "Plant Name                     0\n",
       "Fuel Type                      0\n",
       "Fuel Unit                    180\n",
       "Fuel Quantity Burned           0\n",
       "Energy Per Unit                0\n",
       "Fuel Cost Per Unit Burned      0\n",
       "Fuel Delivery Per Unit         0\n",
       "Fuel Cost Per MMBTU            0\n",
       "dtype: int64"
      ]
     },
     "execution_count": 21,
     "metadata": {},
     "output_type": "execute_result"
    }
   ],
   "source": [
    "#Question 7: The feature with missing values falls under what category? What missing value imputation technique would you use?\n",
    "\n",
    "Fuel_Data.isnull().sum()"
   ]
  },
  {
   "cell_type": "markdown",
   "metadata": {},
   "source": [
    "Answer: Categorical and mode imputation"
   ]
  },
  {
   "cell_type": "code",
   "execution_count": 22,
   "metadata": {},
   "outputs": [
    {
     "data": {
      "text/html": [
       "<div>\n",
       "<style scoped>\n",
       "    .dataframe tbody tr th:only-of-type {\n",
       "        vertical-align: middle;\n",
       "    }\n",
       "\n",
       "    .dataframe tbody tr th {\n",
       "        vertical-align: top;\n",
       "    }\n",
       "\n",
       "    .dataframe thead th {\n",
       "        text-align: right;\n",
       "    }\n",
       "</style>\n",
       "<table border=\"1\" class=\"dataframe\">\n",
       "  <thead>\n",
       "    <tr style=\"text-align: right;\">\n",
       "      <th></th>\n",
       "      <th>Utility ID</th>\n",
       "      <th>Fuel Quantity Burned</th>\n",
       "      <th>Energy Per Unit</th>\n",
       "      <th>Fuel Cost Per Unit Burned</th>\n",
       "      <th>Fuel Delivery Per Unit</th>\n",
       "      <th>Fuel Cost Per MMBTU</th>\n",
       "    </tr>\n",
       "  </thead>\n",
       "  <tbody>\n",
       "    <tr>\n",
       "      <th>Utility ID</th>\n",
       "      <td>1.000000</td>\n",
       "      <td>-0.057447</td>\n",
       "      <td>-0.066946</td>\n",
       "      <td>-0.037863</td>\n",
       "      <td>-0.016414</td>\n",
       "      <td>0.006122</td>\n",
       "    </tr>\n",
       "    <tr>\n",
       "      <th>Fuel Quantity Burned</th>\n",
       "      <td>-0.057447</td>\n",
       "      <td>1.000000</td>\n",
       "      <td>-0.080946</td>\n",
       "      <td>-0.018535</td>\n",
       "      <td>-0.003551</td>\n",
       "      <td>-0.001896</td>\n",
       "    </tr>\n",
       "    <tr>\n",
       "      <th>Energy Per Unit</th>\n",
       "      <td>-0.066946</td>\n",
       "      <td>-0.080946</td>\n",
       "      <td>1.000000</td>\n",
       "      <td>-0.010034</td>\n",
       "      <td>-0.009039</td>\n",
       "      <td>-0.005884</td>\n",
       "    </tr>\n",
       "    <tr>\n",
       "      <th>Fuel Cost Per Unit Burned</th>\n",
       "      <td>-0.037863</td>\n",
       "      <td>-0.018535</td>\n",
       "      <td>-0.010034</td>\n",
       "      <td>1.000000</td>\n",
       "      <td>0.011007</td>\n",
       "      <td>-0.000437</td>\n",
       "    </tr>\n",
       "    <tr>\n",
       "      <th>Fuel Delivery Per Unit</th>\n",
       "      <td>-0.016414</td>\n",
       "      <td>-0.003551</td>\n",
       "      <td>-0.009039</td>\n",
       "      <td>0.011007</td>\n",
       "      <td>1.000000</td>\n",
       "      <td>-0.000109</td>\n",
       "    </tr>\n",
       "    <tr>\n",
       "      <th>Fuel Cost Per MMBTU</th>\n",
       "      <td>0.006122</td>\n",
       "      <td>-0.001896</td>\n",
       "      <td>-0.005884</td>\n",
       "      <td>-0.000437</td>\n",
       "      <td>-0.000109</td>\n",
       "      <td>1.000000</td>\n",
       "    </tr>\n",
       "  </tbody>\n",
       "</table>\n",
       "</div>"
      ],
      "text/plain": [
       "                           Utility ID  Fuel Quantity Burned  Energy Per Unit  \\\n",
       "Utility ID                   1.000000             -0.057447        -0.066946   \n",
       "Fuel Quantity Burned        -0.057447              1.000000        -0.080946   \n",
       "Energy Per Unit             -0.066946             -0.080946         1.000000   \n",
       "Fuel Cost Per Unit Burned   -0.037863             -0.018535        -0.010034   \n",
       "Fuel Delivery Per Unit      -0.016414             -0.003551        -0.009039   \n",
       "Fuel Cost Per MMBTU          0.006122             -0.001896        -0.005884   \n",
       "\n",
       "                           Fuel Cost Per Unit Burned  Fuel Delivery Per Unit  \\\n",
       "Utility ID                                 -0.037863               -0.016414   \n",
       "Fuel Quantity Burned                       -0.018535               -0.003551   \n",
       "Energy Per Unit                            -0.010034               -0.009039   \n",
       "Fuel Cost Per Unit Burned                   1.000000                0.011007   \n",
       "Fuel Delivery Per Unit                      0.011007                1.000000   \n",
       "Fuel Cost Per MMBTU                        -0.000437               -0.000109   \n",
       "\n",
       "                           Fuel Cost Per MMBTU  \n",
       "Utility ID                            0.006122  \n",
       "Fuel Quantity Burned                 -0.001896  \n",
       "Energy Per Unit                      -0.005884  \n",
       "Fuel Cost Per Unit Burned            -0.000437  \n",
       "Fuel Delivery Per Unit               -0.000109  \n",
       "Fuel Cost Per MMBTU                   1.000000  "
      ]
     },
     "execution_count": 22,
     "metadata": {},
     "output_type": "execute_result"
    }
   ],
   "source": [
    "#Question 8: Which of the features has the second and third lowest correlation with the fuel cost per unit burned?\n",
    "\n",
    "Fuel_Data.corr()"
   ]
  },
  {
   "cell_type": "markdown",
   "metadata": {},
   "source": [
    "Answer: The correlation between Fuel cost Per Unit Burned with the other series shows that Fuel Quantity burned (-0.019) has the second lowest value while Fuel Energy per unit (-0.01) has the third lowest value"
   ]
  },
  {
   "cell_type": "code",
   "execution_count": 24,
   "metadata": {},
   "outputs": [
    {
     "name": "stderr",
     "output_type": "stream",
     "text": [
      "C:\\Users\\Dnear\\anaconda3\\lib\\site-packages\\ipykernel_launcher.py:3: FutureWarning: Indexing with multiple keys (implicitly converted to a tuple of keys) will be deprecated, use a list instead.\n",
      "  This is separate from the ipykernel package so we can avoid doing imports until\n"
     ]
    },
    {
     "data": {
      "text/html": [
       "<div>\n",
       "<style scoped>\n",
       "    .dataframe tbody tr th:only-of-type {\n",
       "        vertical-align: middle;\n",
       "    }\n",
       "\n",
       "    .dataframe tbody tr th {\n",
       "        vertical-align: top;\n",
       "    }\n",
       "\n",
       "    .dataframe thead th {\n",
       "        text-align: right;\n",
       "    }\n",
       "</style>\n",
       "<table border=\"1\" class=\"dataframe\">\n",
       "  <thead>\n",
       "    <tr style=\"text-align: right;\">\n",
       "      <th></th>\n",
       "      <th></th>\n",
       "      <th>Fuel Cost Per Unit Burned</th>\n",
       "    </tr>\n",
       "    <tr>\n",
       "      <th>Fuel Type</th>\n",
       "      <th>Report Year</th>\n",
       "      <th></th>\n",
       "    </tr>\n",
       "  </thead>\n",
       "  <tbody>\n",
       "    <tr>\n",
       "      <th rowspan=\"5\" valign=\"top\">coal</th>\n",
       "      <th>1970-01-01 00:00:00.000001994</th>\n",
       "      <td>1.136227e+02</td>\n",
       "    </tr>\n",
       "    <tr>\n",
       "      <th>1970-01-01 00:00:00.000001995</th>\n",
       "      <td>1.160954e+02</td>\n",
       "    </tr>\n",
       "    <tr>\n",
       "      <th>1970-01-01 00:00:00.000001996</th>\n",
       "      <td>1.055537e+02</td>\n",
       "    </tr>\n",
       "    <tr>\n",
       "      <th>1970-01-01 00:00:00.000001997</th>\n",
       "      <td>2.426727e+06</td>\n",
       "    </tr>\n",
       "    <tr>\n",
       "      <th>1970-01-01 00:00:00.000001998</th>\n",
       "      <td>1.020030e+02</td>\n",
       "    </tr>\n",
       "    <tr>\n",
       "      <th>...</th>\n",
       "      <th>...</th>\n",
       "      <td>...</td>\n",
       "    </tr>\n",
       "    <tr>\n",
       "      <th rowspan=\"5\" valign=\"top\">waste</th>\n",
       "      <th>1970-01-01 00:00:00.000002014</th>\n",
       "      <td>1.201198e+02</td>\n",
       "    </tr>\n",
       "    <tr>\n",
       "      <th>1970-01-01 00:00:00.000002015</th>\n",
       "      <td>2.756166e+02</td>\n",
       "    </tr>\n",
       "    <tr>\n",
       "      <th>1970-01-01 00:00:00.000002016</th>\n",
       "      <td>3.082602e+02</td>\n",
       "    </tr>\n",
       "    <tr>\n",
       "      <th>1970-01-01 00:00:00.000002017</th>\n",
       "      <td>3.190810e+02</td>\n",
       "    </tr>\n",
       "    <tr>\n",
       "      <th>1970-01-01 00:00:00.000002018</th>\n",
       "      <td>1.188148e+03</td>\n",
       "    </tr>\n",
       "  </tbody>\n",
       "</table>\n",
       "<p>148 rows × 1 columns</p>\n",
       "</div>"
      ],
      "text/plain": [
       "                                         Fuel Cost Per Unit Burned\n",
       "Fuel Type Report Year                                             \n",
       "coal      1970-01-01 00:00:00.000001994               1.136227e+02\n",
       "          1970-01-01 00:00:00.000001995               1.160954e+02\n",
       "          1970-01-01 00:00:00.000001996               1.055537e+02\n",
       "          1970-01-01 00:00:00.000001997               2.426727e+06\n",
       "          1970-01-01 00:00:00.000001998               1.020030e+02\n",
       "...                                                            ...\n",
       "waste     1970-01-01 00:00:00.000002014               1.201198e+02\n",
       "          1970-01-01 00:00:00.000002015               2.756166e+02\n",
       "          1970-01-01 00:00:00.000002016               3.082602e+02\n",
       "          1970-01-01 00:00:00.000002017               3.190810e+02\n",
       "          1970-01-01 00:00:00.000002018               1.188148e+03\n",
       "\n",
       "[148 rows x 1 columns]"
      ]
     },
     "execution_count": 24,
     "metadata": {},
     "output_type": "execute_result"
    }
   ],
   "source": [
    "#Question 9: For the fuel type coal, what is the percentage change in the fuel cost per unit burned in 1998 compared to 1994?\n",
    "\n",
    "Fuel_Data.groupby(['Fuel Type','Report Year'])['Fuel Type','Fuel Cost Per Unit Burned'].var()"
   ]
  },
  {
   "cell_type": "code",
   "execution_count": 25,
   "metadata": {},
   "outputs": [
    {
     "data": {
      "text/plain": [
       "Report Year\n",
       "1970-01-01 00:00:00.000001994       63.636060\n",
       "1970-01-01 00:00:00.000001995       32.735269\n",
       "1970-01-01 00:00:00.000001996     9196.705948\n",
       "1970-01-01 00:00:00.000001997    11140.197239\n",
       "1970-01-01 00:00:00.000001998      287.154420\n",
       "1970-01-01 00:00:00.000001999       25.551627\n",
       "1970-01-01 00:00:00.000002000      985.362877\n",
       "1970-01-01 00:00:00.000002001       60.050396\n",
       "1970-01-01 00:00:00.000002002       47.594361\n",
       "1970-01-01 00:00:00.000002003       55.663493\n",
       "1970-01-01 00:00:00.000002004      139.524275\n",
       "1970-01-01 00:00:00.000002005       41.438184\n",
       "1970-01-01 00:00:00.000002006       38.657484\n",
       "1970-01-01 00:00:00.000002007       43.325023\n",
       "1970-01-01 00:00:00.000002008       58.588197\n",
       "1970-01-01 00:00:00.000002009      652.694163\n",
       "1970-01-01 00:00:00.000002010       91.862105\n",
       "1970-01-01 00:00:00.000002011       59.774667\n",
       "1970-01-01 00:00:00.000002012       60.994502\n",
       "1970-01-01 00:00:00.000002013      172.307591\n",
       "1970-01-01 00:00:00.000002014      192.737183\n",
       "1970-01-01 00:00:00.000002015      326.535511\n",
       "1970-01-01 00:00:00.000002016      103.901761\n",
       "1970-01-01 00:00:00.000002017       46.196861\n",
       "1970-01-01 00:00:00.000002018      499.269966\n",
       "Name: Fuel Delivery Per Unit, dtype: float64"
      ]
     },
     "execution_count": 25,
     "metadata": {},
     "output_type": "execute_result"
    }
   ],
   "source": [
    "#Question 10: Which year has the highest average fuel cost per unit delivered?\n",
    "\n",
    "Fuel_Data.groupby('Report Year')['Fuel Delivery Per Unit'].mean()"
   ]
  },
  {
   "cell_type": "markdown",
   "metadata": {},
   "source": [
    "Answer: Year 1997 has the higest average fuel cost per unit delivered of 11140.197 units"
   ]
  },
  {
   "cell_type": "code",
   "execution_count": null,
   "metadata": {},
   "outputs": [],
   "source": []
  }
 ],
 "metadata": {
  "kernelspec": {
   "display_name": "Python 3",
   "language": "python",
   "name": "python3"
  },
  "language_info": {
   "codemirror_mode": {
    "name": "ipython",
    "version": 3
   },
   "file_extension": ".py",
   "mimetype": "text/x-python",
   "name": "python",
   "nbconvert_exporter": "python",
   "pygments_lexer": "ipython3",
   "version": "3.7.6"
  }
 },
 "nbformat": 4,
 "nbformat_minor": 4
}
